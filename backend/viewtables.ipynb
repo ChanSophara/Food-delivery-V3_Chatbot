{
 "cells": [
  {
   "cell_type": "markdown",
   "metadata": {},
   "source": [
    "# View stored data in SQLite as Excel Tables !!!"
   ]
  },
  {
   "cell_type": "code",
   "execution_count": 2,
   "metadata": {},
   "outputs": [
    {
     "name": "stdout",
     "output_type": "stream",
     "text": [
      "Data exported successfully to Food_Delivery_Data.xlsx\n"
     ]
    }
   ],
   "source": [
    "import sqlite3\n",
    "import pandas as pd\n",
    "\n",
    "def export_to_excel():\n",
    "    conn = sqlite3.connect(\"new_project_storage.db\")\n",
    "    tables = [\"Users\", \"OrderItems\", \"Contacts\", \"Logins\",\"RegisteredUsers\"]\n",
    "    \n",
    "    # Create an Excel writer object\n",
    "    with pd.ExcelWriter(\"Food_Delivery_Data.xlsx\", engine=\"openpyxl\") as writer:\n",
    "        for table in tables:\n",
    "            df = pd.read_sql_query(f\"SELECT * FROM {table}\", conn)\n",
    "            df.to_excel(writer, sheet_name=table, index=False)\n",
    "    \n",
    "    conn.close()\n",
    "    print(\"Data exported successfully to Food_Delivery_Data.xlsx\")\n",
    "\n",
    "export_to_excel()\n"
   ]
  }
 ],
 "metadata": {
  "kernelspec": {
   "display_name": "Python 3",
   "language": "python",
   "name": "python3"
  },
  "language_info": {
   "codemirror_mode": {
    "name": "ipython",
    "version": 3
   },
   "file_extension": ".py",
   "mimetype": "text/x-python",
   "name": "python",
   "nbconvert_exporter": "python",
   "pygments_lexer": "ipython3",
   "version": "3.11.5"
  }
 },
 "nbformat": 4,
 "nbformat_minor": 2
}
